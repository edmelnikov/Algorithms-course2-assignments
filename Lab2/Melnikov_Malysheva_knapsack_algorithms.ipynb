{
  "nbformat": 4,
  "nbformat_minor": 0,
  "metadata": {
    "colab": {
      "name": "knapsack_algos.ipynb",
      "provenance": [],
      "collapsed_sections": []
    },
    "kernelspec": {
      "name": "python3",
      "display_name": "Python 3"
    },
    "language_info": {
      "name": "python"
    }
  },
  "cells": [
    {
      "cell_type": "markdown",
      "metadata": {
        "id": "6lqZQ92_5PfL"
      },
      "source": [
        "# Лабораторная работа 2. Задача о рюкзаке. \n",
        "\n",
        "### Мельников Евгений 18ПМИ-1, Екатерина Малышева 18ПМИ-2"
      ]
    },
    {
      "cell_type": "code",
      "metadata": {
        "colab": {
          "base_uri": "https://localhost:8080/"
        },
        "id": "AyQwrIRgmuwD",
        "outputId": "83ec4e1f-ee82-4b35-d9c8-68ca21039318"
      },
      "source": [
        "import time\n",
        "from google.colab import drive\n",
        "import os\n",
        "import pandas as pd\n",
        "import numpy as np\n",
        "import networkx as nx\n",
        "from collections import defaultdict\n",
        "from math import gcd, floor\n",
        "from random import randint\n",
        "import time\n",
        "from itertools import *\n",
        "from scipy.optimize import linprog\n",
        "import copy\n",
        " \n",
        "drive.mount('/drive')\n",
        "os.listdir('/drive/MyDrive/knapsnack_benchmarks')"
      ],
      "execution_count": null,
      "outputs": [
        {
          "output_type": "stream",
          "text": [
            "Drive already mounted at /drive; to attempt to forcibly remount, call drive.mount(\"/drive\", force_remount=True).\n"
          ],
          "name": "stdout"
        },
        {
          "output_type": "execute_result",
          "data": {
            "text/plain": [
              "['p01_c.txt',\n",
              " 'p01_w.txt',\n",
              " 'p01_p.txt',\n",
              " 'p01_s.txt',\n",
              " 'p02_c.txt',\n",
              " 'p02_w.txt',\n",
              " 'p02_p.txt',\n",
              " 'p02_s.txt',\n",
              " 'p03_c.txt',\n",
              " 'p03_w.txt',\n",
              " 'p03_p.txt',\n",
              " 'p03_s.txt',\n",
              " 'p04_c.txt',\n",
              " 'p04_w.txt',\n",
              " 'p04_p.txt',\n",
              " 'p04_s.txt',\n",
              " 'p05_c.txt',\n",
              " 'p05_w.txt',\n",
              " 'p05_p.txt',\n",
              " 'p05_s.txt',\n",
              " 'p06_c.txt',\n",
              " 'p06_w.txt',\n",
              " 'p06_p.txt',\n",
              " 'p06_s.txt',\n",
              " 'p07_c.txt',\n",
              " 'p07_w.txt',\n",
              " 'p07_p.txt',\n",
              " 'p07_s.txt']"
            ]
          },
          "metadata": {
            "tags": []
          },
          "execution_count": 19
        }
      ]
    },
    {
      "cell_type": "markdown",
      "metadata": {
        "id": "BzOR2DMht-nT"
      },
      "source": [
        "## Dynamic programming"
      ]
    },
    {
      "cell_type": "code",
      "metadata": {
        "id": "XHKB4EmkotMv"
      },
      "source": [
        "def dynamic_programming_algo(capacity, weight, profit):\n",
        "  total_operations = 0\n",
        "\n",
        "  previous_row = [] \n",
        "  current_row = [] # only current and previous rows are used so that we don't store unnecessary table data\n",
        "  current_row_items = []\n",
        "  previous_row_items = []\n",
        "  total_items = len(weight)\n",
        "\n",
        "  for i in range(capacity + 1):\n",
        "    previous_row.append(0)\n",
        "    current_row.append(0)\n",
        "    current_row_items.append([])\n",
        "    previous_row_items.append([])\n",
        "\n",
        "  start = time.time()\n",
        "  for items_amount in range(total_items + 1):\n",
        "    for current_capacity in range(capacity + 1):\n",
        "\n",
        "      total_operations += 1\n",
        "\n",
        "      #print(current_capacity)\n",
        "      if items_amount == 0 or current_capacity == 0:\n",
        "        current_row[current_capacity] = 0\n",
        "      elif current_capacity >= weight[items_amount - 1]:  # w >= w_i \n",
        "        #print(\"taking item number\", items_amount - 1)    \n",
        "        total_operations += 1 #?\n",
        "        if profit[items_amount - 1] + previous_row[current_capacity - weight[items_amount - 1]] > previous_row[current_capacity]:\n",
        "          current_row[current_capacity] = profit[items_amount - 1] + previous_row[current_capacity - weight[items_amount - 1]]\n",
        "          current_row_items[current_capacity] = previous_row_items[current_capacity - weight[items_amount - 1]].copy()\n",
        "          current_row_items[current_capacity].append(items_amount - 1)\n",
        "        else:                                                    \n",
        "          current_row[current_capacity] = previous_row[current_capacity]\n",
        "          current_row_items[current_capacity] = previous_row_items[current_capacity]\n",
        "      elif current_capacity < weight[items_amount - 1]:\n",
        "        current_row[current_capacity] = previous_row[current_capacity] # we don't take the item\n",
        "        current_row_items[current_capacity] = previous_row_items[current_capacity]\n",
        "    previous_row = current_row.copy()\n",
        "    previous_row_items = current_row_items.copy()\n",
        "    #print(current_row)  \n",
        "    #print(current_row_items)\n",
        "  return current_row_items[capacity], current_row[capacity], time.time() - start, total_operations # returns the items and their total weight\n",
        "  "
      ],
      "execution_count": 1,
      "outputs": []
    },
    {
      "cell_type": "markdown",
      "metadata": {
        "id": "pWsHLsOVuBte"
      },
      "source": [
        "## PTAS"
      ]
    },
    {
      "cell_type": "code",
      "metadata": {
        "id": "fEjzrhA3rFYR"
      },
      "source": [
        "# copied this one from a website\n",
        "def all_subsets(array, subset_size): # wierd af\n",
        "  array_size = len(array)\n",
        "  data = list(range(subset_size))\n",
        "\n",
        "  subsets = []\n",
        "  def all_subsets_rec(index, data, i):\n",
        "\n",
        "    #print(array)\n",
        "    if index == subset_size:\n",
        "      subsets.append(data.copy())\n",
        "      return\n",
        " \n",
        "    # When no more elements\n",
        "    # are there to put in data[]\n",
        "    if i >= array_size:\n",
        "      return\n",
        " \n",
        "    # current is included,\n",
        "    # put next at next\n",
        "    # location\n",
        "    data[index] = array[i]\n",
        "    \n",
        "    all_subsets_rec(index + 1, data, i + 1) \n",
        "    # current is excluded,\n",
        "    # replace it with\n",
        "    # next (Note that i+1\n",
        "    # is passed, but index\n",
        "    # is not changed)\n",
        "\n",
        "    all_subsets_rec(index, data, i + 1)  \n",
        "  all_subsets_rec(0, data, 0)\n",
        "  return subsets\n",
        "\n",
        "\n",
        "def greedy_search(capacity, weights, profits, subset): # subset of items (M)\n",
        "  resulting_profit = 0 # z^g\n",
        "  remaining_capacity = capacity # c hat\n",
        "  for item in subset:\n",
        "    remaining_capacity -= weights[item]\n",
        "    #resulting_profits += profits[item] # ?\n",
        "\n",
        "  X = [] # ! gotta be renamed\n",
        "\n",
        "  for item in range(len(weights)):\n",
        "    if item not in subset and weights[item] <= remaining_capacity: # if item is not in the subset in fits in the leftover space\n",
        "      resulting_profit += profits[item]\n",
        "      remaining_capacity -= weights[item]\n",
        "      X.append(item)\n",
        "\n",
        "  return resulting_profit, X\n",
        "\n",
        "\n",
        "def ptas(capacity, weights, profits, subset_size):\n",
        "  total_operations = 0\n",
        "\n",
        "  items = list(range(len(weights)))\n",
        "  subsets = all_subsets(items, subset_size)\n",
        "  best_profit = 0\n",
        "  best_X = []\n",
        "\n",
        "  start = time.time()\n",
        "\n",
        "  for subset in subsets:\n",
        "    subset_weight = 0\n",
        "    subset_profit = 0\n",
        "    #best_X = []\n",
        "    for item in subset:\n",
        "      subset_weight += weights[item]\n",
        "      subset_profit += profits[item]\n",
        "\n",
        "    total_operations += 1\n",
        "    if subset_weight <= capacity:\n",
        "      resulting_profit, X = greedy_search(capacity, weights, profits, subset)\n",
        "      total_operations += 1      \n",
        "      if resulting_profit + subset_profit > best_profit:\n",
        "        best_profit = resulting_profit + subset_profit\n",
        "        #print(subset, X)\n",
        "        best_X = list(set(X) | set(subset))\n",
        "  #return best_X, best_profit      \n",
        "  return best_X, best_profit, time.time() - start, total_operations "
      ],
      "execution_count": null,
      "outputs": []
    },
    {
      "cell_type": "markdown",
      "metadata": {
        "id": "w_Re98IfywXi"
      },
      "source": [
        "# 2-approx\n"
      ]
    },
    {
      "cell_type": "code",
      "metadata": {
        "id": "eUDmVI8IyzW7"
      },
      "source": [
        "\n",
        "def approx_2(capacity, weights, profits):\n",
        "  quality = []\n",
        "  num_items = len(weights)\n",
        "  count_operations=0\n",
        "  start=time.time()\n",
        "  for i in range(num_items):\n",
        "    quality.append(profits[i]/weights[i])\n",
        "  quality_sorted_arg = np.argsort(quality)\n",
        "  quality_sorted_arg = np.flip(quality_sorted_arg)\n",
        "  profit_sorted_arg = np.argsort(profits)\n",
        "  profit_sorted_arg = np.flip(profit_sorted_arg )\n",
        "\n",
        "  quality_c, profits_c= 0, 0\n",
        "  quality_w, profits_w= 0, 0\n",
        "  backpack_by_quality=[]\n",
        "  backpack_by_profits=[]\n",
        "\n",
        "  for i in range(num_items):\n",
        "    count_operations+=2\n",
        "    if quality_w + weights[quality_sorted_arg[i]] <= capacity:\n",
        "      quality_c += profits[quality_sorted_arg[i]]\n",
        "      quality_w += weights[quality_sorted_arg[i]] \n",
        "      backpack_by_quality.append(quality_sorted_arg[i])\n",
        "    if profits_w + weights[profit_sorted_arg[i]] <= capacity:\n",
        "      profits_c += profits[profit_sorted_arg[i]]\n",
        "      profits_w += weights[profit_sorted_arg[i]] \n",
        "      backpack_by_profits.append(profit_sorted_arg[i])\n",
        "  if quality_c >= profits_c:\n",
        "    return sorted(backpack_by_quality), quality_c, time.time()-start, count_operations\n",
        "  else:\n",
        "    return sorted(backpack_by_profits), profits_c, time.time()-start, count_operations\n",
        "\n"
      ],
      "execution_count": null,
      "outputs": []
    },
    {
      "cell_type": "markdown",
      "metadata": {
        "id": "T5R3QoX8IvMH"
      },
      "source": [
        "# Branch and bound method"
      ]
    },
    {
      "cell_type": "code",
      "metadata": {
        "id": "BM165dts9F0L"
      },
      "source": [
        "class node:\n",
        "    \n",
        "    def __init__(self, func, weights, profits, bounds, capacity, A_equal, b_equal ):\n",
        "        if A_equal and b_equal:\n",
        "            opt = linprog(c = func, A_ub = [weights], b_ub = capacity , A_eq = A_equal, b_eq = b_equal, bounds = bounds, method = 'simplex')\n",
        "        else:\n",
        "            opt = linprog(c = func, A_ub = [weights], b_ub = capacity, bounds = bounds, method = 'simplex')\n",
        "            \n",
        "        self.fun = opt.fun\n",
        "        self.items = []\n",
        "        self.num_ind = -1 #нецелочисленное \n",
        "        \n",
        "        for i in range(len(opt.x)):\n",
        "            if abs(1 - opt.x[i]) > 0.01:\n",
        "                self.items.append(opt.x[i])\n",
        "            else:\n",
        "                self.items.append(round(opt.x[i]))\n",
        "            if self.items[i] > 0 and self.items[i] < 1:\n",
        "                self.num_ind= i #позиция нецелого элемента\n",
        "                \n",
        "        self.tot_weight=0\n",
        "        for i in range(len(self.items)):\n",
        "            self.tot_weight+= self.items[i]* weights[i]\n",
        "        \n",
        "            \n",
        "        self.A_equal = A_equal\n",
        "        self.b_equal = b_equal\n",
        "  \n",
        "def bbm(capacity, weights, profits):\n",
        "    start=time.time()\n",
        "    func=[]\n",
        "    for p in profits:\n",
        "        func.append(-p)\n",
        "        \n",
        "    bounds = []\n",
        "    for i in range(len(weights)):\n",
        "        bounds.append((0, 1))\n",
        "    \n",
        "    global best_profit\n",
        "    \n",
        "    best_profit = 0\n",
        "    global best_backpack \n",
        "    best_backpack = []\n",
        "    global num_operations \n",
        "    num_operations = 0\n",
        "    \n",
        "    A_equal=[]\n",
        "    b_equal=[]\n",
        "    \n",
        "    queue=[]\n",
        "    first_sol=node(func, weights, profits, bounds, capacity, [], [])\n",
        "    \n",
        "    \n",
        "    queue.append(first_sol)\n",
        "    num_op=0\n",
        "    while queue:\n",
        "        num_op+=1\n",
        "        \n",
        "        cur_node = queue.pop(0)\n",
        "        #print(cur_node.items)\n",
        "        \n",
        "        if cur_node.num_ind == -1 and cur_node.tot_weight <= capacity :\n",
        "            if -cur_node.fun > best_profit:\n",
        "                best_profit = -cur_node.fun\n",
        "                #print(\"!!!!!\", best_profit)\n",
        "                best_backpack = cur_node.items\n",
        "                \n",
        "        elif -cur_node.fun < best_profit or cur_node.num_ind == -1 :\n",
        "            continue\n",
        "            \n",
        "        else:\n",
        "            \n",
        "            A_equal = copy.deepcopy(cur_node.A_equal)\n",
        "            b_equal_1 = copy.deepcopy(cur_node.b_equal)\n",
        "            b_equal_0 = copy.deepcopy(cur_node.b_equal)\n",
        "\n",
        "            equal = []\n",
        "\n",
        "            for i in range(len(weights)):\n",
        "                if i == cur_node.num_ind:\n",
        "                    equal.append(1)\n",
        "                else:\n",
        "                    equal.append(0)\n",
        "                    \n",
        "            A_equal.append(equal)\n",
        "            b_equal_1.append(1)\n",
        "            b_equal_0.append(0)\n",
        "            \n",
        "            new_node_1=node(func, weights, profits, bounds, capacity, A_equal, b_equal_1)\n",
        "            queue.append(new_node_1)\n",
        "            new_node_0=node(func, weights, profits, bounds, capacity, A_equal, b_equal_0)\n",
        "            queue.append(new_node_0)\n",
        "            \n",
        "\n",
        "    total_profit = 0\n",
        "    best_backpack_out=[]\n",
        "    for i in range(len(best_backpack)):\n",
        "        if best_backpack[i] == 1:\n",
        "            total_profit+= profits[i]\n",
        "            best_backpack_out.append(i)\n",
        "\n",
        "            \n",
        "    return(best_backpack_out, total_profit, time.time()-start, num_op)"
      ],
      "execution_count": null,
      "outputs": []
    },
    {
      "cell_type": "markdown",
      "metadata": {
        "id": "DQADPUjBEbZ_"
      },
      "source": [
        "# Сравнение"
      ]
    },
    {
      "cell_type": "code",
      "metadata": {
        "id": "_jMgC2ou4lsR"
      },
      "source": [
        "class benchmark:\n",
        "  knapsnack_algorithms = [dynamic_programming_algo, ptas, approx_2, bbm]\n",
        "  weights = {}\n",
        "  profits = {}\n",
        "  answers = {}\n",
        "  capacities = {}\n",
        "  numbers = range(1, 8)\n",
        "\n",
        "  def __init__(self, path): # path to a folder, which contains benchmark files\n",
        "    print(\"Opening up input files...\")\n",
        "    for filename in sorted(os.listdir(path)):\n",
        "      input = open(path + '/' + filename).read()\n",
        "      if \"_c\" in filename:\n",
        "        self.capacities[filename[2:3]] = int(input)\n",
        "      elif \"_p\" in filename:\n",
        "        self.profits[filename[2:3]] = list(map(int, input.split()))\n",
        "      elif \"_s\" in filename:\n",
        "        answers_onehot = list(map(int, input.split()))\n",
        "        self.answers[filename[2:3]] = []\n",
        "        for i in range(len(answers_onehot)):    \n",
        "          if answers_onehot[i] == 1:            \n",
        "            self.answers[filename[2:3]].append(i)\n",
        "\n",
        "        #self.answers[filename[2:3]] = list(map(int, input.split()))\n",
        "      elif \"_w\" in filename:\n",
        "        self.weights[filename[2:3]] = list(map(int, input.split()))\n",
        "    print(\"Finished\")      \n",
        "\n",
        "\n",
        "  def check_single_benchmark(self, capacity, weights, profits, knapsnack_algorithm, times_repeat=10): \n",
        "    mean_time = 0\n",
        "    \n",
        "    for i in range(times_repeat):\n",
        "      if knapsnack_algorithm.__name__ == \"ptas\":\n",
        "        items, resulting_profit, time, num_operations = knapsnack_algorithm(capacity, weights, profits, 2)\n",
        "      else:\n",
        "        items, resulting_profit, time, num_operations = knapsnack_algorithm(capacity, weights, profits)\n",
        "      mean_time += time\n",
        "\n",
        "    mean_time = mean_time/times_repeat\n",
        "\n",
        "    return items, resulting_profit, mean_time, num_operations\n",
        "\n",
        "\n",
        "  def calculate_weight(self, items, weights):\n",
        "    weight = 0\n",
        "    for item in items:\n",
        "      weight += weights[item]\n",
        "    return weight\n",
        "\n",
        "  def report(self):\n",
        "\n",
        "    resulting_profit_table = []\n",
        "    items_table = []\n",
        "    times_table = []\n",
        "    operations_table = []\n",
        "    weights_table = []\n",
        "\n",
        "    for algorithm in self.knapsnack_algorithms:\n",
        "      print(\"Checking\", algorithm.__name__)\n",
        "\n",
        "      \n",
        "      items_row = {}\n",
        "      resulting_profit_row = {}\n",
        "      times_row = {}\n",
        "      operations_row = {}\n",
        "      weights_row = {}\n",
        "\n",
        "      for num in self.numbers:\n",
        "        results = self.check_single_benchmark(self.capacities[str(num)], self.weights[str(num)], self.profits[str(num)], algorithm)\n",
        "        \n",
        "        items_row[str(num)] = results[0]\n",
        "        resulting_profit_row[str(num)] = results[1]\n",
        "        times_row[str(num)] = results[2]          \n",
        "        operations_row[str(num)]  = results[3]\n",
        "        weights_row[str(num)] = self.calculate_weight(results[0], self.weights[str(num)])\n",
        "\n",
        "      resulting_profit_table.append(resulting_profit_row)\n",
        "      items_table.append(items_row)\n",
        "      times_table.append(times_row) \n",
        "      operations_table.append(operations_row)\n",
        "      weights_table.append(weights_row)\n",
        "\n",
        "    items_table.append(self.answers) # row with optimal selection of weights\n",
        "              \n",
        "    resulting_profit_table=pd.DataFrame(resulting_profit_table)\n",
        "    items_table=pd.DataFrame(items_table)\n",
        "    times_table=pd.DataFrame(times_table)\n",
        "    operations_table=pd.DataFrame(operations_table)\n",
        "    weights_table=pd.DataFrame(weights_table)\n",
        "    for i in range(len(self.knapsnack_algorithms)):\n",
        "      resulting_profit_table.rename(index={i:self.knapsnack_algorithms[i].__name__}, inplace=True)\n",
        "      items_table.rename(index={i:self.knapsnack_algorithms[i].__name__}, inplace=True)\n",
        "      times_table.rename(index={i:self.knapsnack_algorithms[i].__name__}, inplace=True)\n",
        "      operations_table.rename(index={i:self.knapsnack_algorithms[i].__name__}, inplace=True)\n",
        "      weights_table.rename(index={i:self.knapsnack_algorithms[i].__name__}, inplace=True)\n",
        "    items_table.rename(index={len(self.knapsnack_algorithms):\"Optimal selection\"}, inplace=True) # row with optimal selection of weights\n",
        "\n",
        "    \n",
        "\n",
        "    return resulting_profit_table, items_table, times_table, operations_table, weights_table"
      ],
      "execution_count": null,
      "outputs": []
    },
    {
      "cell_type": "code",
      "metadata": {
        "colab": {
          "base_uri": "https://localhost:8080/"
        },
        "id": "1bwp9t3mmqR1",
        "outputId": "91b6b498-ee0d-42a2-8ab6-f0f48c1f4d29"
      },
      "source": [
        "bench = benchmark('/drive/MyDrive/knapsnack_benchmarks')\n",
        "resulting_profit_table, items_table, times_table, operations_table, weights_table = bench.report()\n"
      ],
      "execution_count": null,
      "outputs": [
        {
          "output_type": "stream",
          "text": [
            "Opening up input files...\n",
            "Finished\n",
            "Checking dynamic_programming_algo\n",
            "Checking ptas\n",
            "Checking approx_2\n",
            "Checking bbm\n"
          ],
          "name": "stdout"
        }
      ]
    },
    {
      "cell_type": "markdown",
      "metadata": {
        "id": "4cUhxc3L5u5L"
      },
      "source": [
        "## Оптимальная ценность:"
      ]
    },
    {
      "cell_type": "code",
      "metadata": {
        "colab": {
          "base_uri": "https://localhost:8080/",
          "height": 170
        },
        "id": "Wuga2OhPnRel",
        "outputId": "ad55208b-281e-4f52-8dc5-dec79b336f95"
      },
      "source": [
        "resulting_profit_table"
      ],
      "execution_count": null,
      "outputs": [
        {
          "output_type": "execute_result",
          "data": {
            "text/html": [
              "<div>\n",
              "<style scoped>\n",
              "    .dataframe tbody tr th:only-of-type {\n",
              "        vertical-align: middle;\n",
              "    }\n",
              "\n",
              "    .dataframe tbody tr th {\n",
              "        vertical-align: top;\n",
              "    }\n",
              "\n",
              "    .dataframe thead th {\n",
              "        text-align: right;\n",
              "    }\n",
              "</style>\n",
              "<table border=\"1\" class=\"dataframe\">\n",
              "  <thead>\n",
              "    <tr style=\"text-align: right;\">\n",
              "      <th></th>\n",
              "      <th>1</th>\n",
              "      <th>2</th>\n",
              "      <th>3</th>\n",
              "      <th>4</th>\n",
              "      <th>5</th>\n",
              "      <th>6</th>\n",
              "      <th>7</th>\n",
              "    </tr>\n",
              "  </thead>\n",
              "  <tbody>\n",
              "    <tr>\n",
              "      <th>dynamic_programming_algo</th>\n",
              "      <td>309</td>\n",
              "      <td>51</td>\n",
              "      <td>150</td>\n",
              "      <td>107</td>\n",
              "      <td>900</td>\n",
              "      <td>1735</td>\n",
              "      <td>1458</td>\n",
              "    </tr>\n",
              "    <tr>\n",
              "      <th>ptas</th>\n",
              "      <td>309</td>\n",
              "      <td>51</td>\n",
              "      <td>150</td>\n",
              "      <td>107</td>\n",
              "      <td>900</td>\n",
              "      <td>1652</td>\n",
              "      <td>1361</td>\n",
              "    </tr>\n",
              "    <tr>\n",
              "      <th>approx_2</th>\n",
              "      <td>309</td>\n",
              "      <td>47</td>\n",
              "      <td>146</td>\n",
              "      <td>107</td>\n",
              "      <td>888</td>\n",
              "      <td>1735</td>\n",
              "      <td>1441</td>\n",
              "    </tr>\n",
              "    <tr>\n",
              "      <th>bbm</th>\n",
              "      <td>309</td>\n",
              "      <td>51</td>\n",
              "      <td>150</td>\n",
              "      <td>107</td>\n",
              "      <td>900</td>\n",
              "      <td>1735</td>\n",
              "      <td>1458</td>\n",
              "    </tr>\n",
              "  </tbody>\n",
              "</table>\n",
              "</div>"
            ],
            "text/plain": [
              "                            1   2    3    4    5     6     7\n",
              "dynamic_programming_algo  309  51  150  107  900  1735  1458\n",
              "ptas                      309  51  150  107  900  1652  1361\n",
              "approx_2                  309  47  146  107  888  1735  1441\n",
              "bbm                       309  51  150  107  900  1735  1458"
            ]
          },
          "metadata": {
            "tags": []
          },
          "execution_count": 14
        }
      ]
    },
    {
      "cell_type": "markdown",
      "metadata": {
        "id": "txwt2Jdb51F8"
      },
      "source": [
        "## Содержимое оптимального рюкзака:"
      ]
    },
    {
      "cell_type": "code",
      "metadata": {
        "colab": {
          "base_uri": "https://localhost:8080/",
          "height": 200
        },
        "id": "kz-ctso2s4MJ",
        "outputId": "c9628ca2-cf6f-4956-faa3-22a5b28ceaa3"
      },
      "source": [
        "items_table"
      ],
      "execution_count": null,
      "outputs": [
        {
          "output_type": "execute_result",
          "data": {
            "text/html": [
              "<div>\n",
              "<style scoped>\n",
              "    .dataframe tbody tr th:only-of-type {\n",
              "        vertical-align: middle;\n",
              "    }\n",
              "\n",
              "    .dataframe tbody tr th {\n",
              "        vertical-align: top;\n",
              "    }\n",
              "\n",
              "    .dataframe thead th {\n",
              "        text-align: right;\n",
              "    }\n",
              "</style>\n",
              "<table border=\"1\" class=\"dataframe\">\n",
              "  <thead>\n",
              "    <tr style=\"text-align: right;\">\n",
              "      <th></th>\n",
              "      <th>1</th>\n",
              "      <th>2</th>\n",
              "      <th>3</th>\n",
              "      <th>4</th>\n",
              "      <th>5</th>\n",
              "      <th>6</th>\n",
              "      <th>7</th>\n",
              "    </tr>\n",
              "  </thead>\n",
              "  <tbody>\n",
              "    <tr>\n",
              "      <th>dynamic_programming_algo</th>\n",
              "      <td>[0, 1, 2, 3, 5]</td>\n",
              "      <td>[1, 2, 3]</td>\n",
              "      <td>[0, 1, 4]</td>\n",
              "      <td>[0, 3]</td>\n",
              "      <td>[0, 2, 3, 4, 6, 7]</td>\n",
              "      <td>[1, 3, 6]</td>\n",
              "      <td>[0, 2, 4, 6, 7, 8, 13, 14]</td>\n",
              "    </tr>\n",
              "    <tr>\n",
              "      <th>ptas</th>\n",
              "      <td>[0, 1, 2, 3, 5]</td>\n",
              "      <td>[1, 2, 3]</td>\n",
              "      <td>[0, 1, 4]</td>\n",
              "      <td>[0, 3]</td>\n",
              "      <td>[0, 2, 3, 4, 6, 7]</td>\n",
              "      <td>[0, 3, 6]</td>\n",
              "      <td>[0, 1, 2, 3, 4, 5, 13, 14]</td>\n",
              "    </tr>\n",
              "    <tr>\n",
              "      <th>approx_2</th>\n",
              "      <td>[0, 1, 2, 3, 5]</td>\n",
              "      <td>[0, 2]</td>\n",
              "      <td>[0, 1, 3]</td>\n",
              "      <td>[0, 3]</td>\n",
              "      <td>[1, 2, 3, 5, 6, 7]</td>\n",
              "      <td>[1, 3, 6]</td>\n",
              "      <td>[0, 1, 2, 6, 7, 8, 13, 14]</td>\n",
              "    </tr>\n",
              "    <tr>\n",
              "      <th>bbm</th>\n",
              "      <td>[0, 1, 2, 3, 5]</td>\n",
              "      <td>[1, 2, 3]</td>\n",
              "      <td>[0, 1, 4]</td>\n",
              "      <td>[0, 3]</td>\n",
              "      <td>[0, 2, 3, 4, 6, 7]</td>\n",
              "      <td>[1, 3, 6]</td>\n",
              "      <td>[0, 2, 4, 6, 7, 8, 13, 14]</td>\n",
              "    </tr>\n",
              "    <tr>\n",
              "      <th>Optimal selection</th>\n",
              "      <td>[0, 1, 2, 3, 5]</td>\n",
              "      <td>[1, 2, 3]</td>\n",
              "      <td>[0, 1, 4]</td>\n",
              "      <td>[0, 3]</td>\n",
              "      <td>[0, 2, 3, 4, 6, 7]</td>\n",
              "      <td>[1, 3, 6]</td>\n",
              "      <td>[0, 2, 4, 6, 7, 8, 13, 14]</td>\n",
              "    </tr>\n",
              "  </tbody>\n",
              "</table>\n",
              "</div>"
            ],
            "text/plain": [
              "                                        1  ...                           7\n",
              "dynamic_programming_algo  [0, 1, 2, 3, 5]  ...  [0, 2, 4, 6, 7, 8, 13, 14]\n",
              "ptas                      [0, 1, 2, 3, 5]  ...  [0, 1, 2, 3, 4, 5, 13, 14]\n",
              "approx_2                  [0, 1, 2, 3, 5]  ...  [0, 1, 2, 6, 7, 8, 13, 14]\n",
              "bbm                       [0, 1, 2, 3, 5]  ...  [0, 2, 4, 6, 7, 8, 13, 14]\n",
              "Optimal selection         [0, 1, 2, 3, 5]  ...  [0, 2, 4, 6, 7, 8, 13, 14]\n",
              "\n",
              "[5 rows x 7 columns]"
            ]
          },
          "metadata": {
            "tags": []
          },
          "execution_count": 15
        }
      ]
    },
    {
      "cell_type": "markdown",
      "metadata": {
        "id": "-tcE1GPG5_DM"
      },
      "source": [
        "## Время выполнения:"
      ]
    },
    {
      "cell_type": "code",
      "metadata": {
        "colab": {
          "base_uri": "https://localhost:8080/",
          "height": 170
        },
        "id": "pxjcUuMkxNtE",
        "outputId": "c2a821de-2ca3-4d69-8766-5dcfab255d55"
      },
      "source": [
        "times_table"
      ],
      "execution_count": null,
      "outputs": [
        {
          "output_type": "execute_result",
          "data": {
            "text/html": [
              "<div>\n",
              "<style scoped>\n",
              "    .dataframe tbody tr th:only-of-type {\n",
              "        vertical-align: middle;\n",
              "    }\n",
              "\n",
              "    .dataframe tbody tr th {\n",
              "        vertical-align: top;\n",
              "    }\n",
              "\n",
              "    .dataframe thead th {\n",
              "        text-align: right;\n",
              "    }\n",
              "</style>\n",
              "<table border=\"1\" class=\"dataframe\">\n",
              "  <thead>\n",
              "    <tr style=\"text-align: right;\">\n",
              "      <th></th>\n",
              "      <th>1</th>\n",
              "      <th>2</th>\n",
              "      <th>3</th>\n",
              "      <th>4</th>\n",
              "      <th>5</th>\n",
              "      <th>6</th>\n",
              "      <th>7</th>\n",
              "    </tr>\n",
              "  </thead>\n",
              "  <tbody>\n",
              "    <tr>\n",
              "      <th>dynamic_programming_algo</th>\n",
              "      <td>0.001335</td>\n",
              "      <td>0.000094</td>\n",
              "      <td>0.001033</td>\n",
              "      <td>0.000238</td>\n",
              "      <td>0.000658</td>\n",
              "      <td>0.000863</td>\n",
              "      <td>0.010723</td>\n",
              "    </tr>\n",
              "    <tr>\n",
              "      <th>ptas</th>\n",
              "      <td>0.000114</td>\n",
              "      <td>0.000021</td>\n",
              "      <td>0.000032</td>\n",
              "      <td>0.000050</td>\n",
              "      <td>0.000086</td>\n",
              "      <td>0.000048</td>\n",
              "      <td>0.000561</td>\n",
              "    </tr>\n",
              "    <tr>\n",
              "      <th>approx_2</th>\n",
              "      <td>0.000076</td>\n",
              "      <td>0.000050</td>\n",
              "      <td>0.000133</td>\n",
              "      <td>0.000024</td>\n",
              "      <td>0.000029</td>\n",
              "      <td>0.000029</td>\n",
              "      <td>0.000035</td>\n",
              "    </tr>\n",
              "    <tr>\n",
              "      <th>bbm</th>\n",
              "      <td>0.352461</td>\n",
              "      <td>0.048662</td>\n",
              "      <td>0.060610</td>\n",
              "      <td>0.120725</td>\n",
              "      <td>0.087674</td>\n",
              "      <td>0.288385</td>\n",
              "      <td>7.364806</td>\n",
              "    </tr>\n",
              "  </tbody>\n",
              "</table>\n",
              "</div>"
            ],
            "text/plain": [
              "                                 1         2  ...         6         7\n",
              "dynamic_programming_algo  0.001335  0.000094  ...  0.000863  0.010723\n",
              "ptas                      0.000114  0.000021  ...  0.000048  0.000561\n",
              "approx_2                  0.000076  0.000050  ...  0.000029  0.000035\n",
              "bbm                       0.352461  0.048662  ...  0.288385  7.364806\n",
              "\n",
              "[4 rows x 7 columns]"
            ]
          },
          "metadata": {
            "tags": []
          },
          "execution_count": 16
        }
      ]
    },
    {
      "cell_type": "markdown",
      "metadata": {
        "id": "NvPemnvF6AQf"
      },
      "source": [
        "## Количество операций:"
      ]
    },
    {
      "cell_type": "code",
      "metadata": {
        "colab": {
          "base_uri": "https://localhost:8080/",
          "height": 170
        },
        "id": "PIJigPL6zPoE",
        "outputId": "8c271327-3132-470e-a5fa-cee877971979"
      },
      "source": [
        "operations_table"
      ],
      "execution_count": null,
      "outputs": [
        {
          "output_type": "execute_result",
          "data": {
            "text/html": [
              "<div>\n",
              "<style scoped>\n",
              "    .dataframe tbody tr th:only-of-type {\n",
              "        vertical-align: middle;\n",
              "    }\n",
              "\n",
              "    .dataframe tbody tr th {\n",
              "        vertical-align: top;\n",
              "    }\n",
              "\n",
              "    .dataframe thead th {\n",
              "        text-align: right;\n",
              "    }\n",
              "</style>\n",
              "<table border=\"1\" class=\"dataframe\">\n",
              "  <thead>\n",
              "    <tr style=\"text-align: right;\">\n",
              "      <th></th>\n",
              "      <th>1</th>\n",
              "      <th>2</th>\n",
              "      <th>3</th>\n",
              "      <th>4</th>\n",
              "      <th>5</th>\n",
              "      <th>6</th>\n",
              "      <th>7</th>\n",
              "    </tr>\n",
              "  </thead>\n",
              "  <tbody>\n",
              "    <tr>\n",
              "      <th>dynamic_programming_algo</th>\n",
              "      <td>2949</td>\n",
              "      <td>250</td>\n",
              "      <td>2132</td>\n",
              "      <td>672</td>\n",
              "      <td>1643</td>\n",
              "      <td>2194</td>\n",
              "      <td>21848</td>\n",
              "    </tr>\n",
              "    <tr>\n",
              "      <th>ptas</th>\n",
              "      <td>87</td>\n",
              "      <td>20</td>\n",
              "      <td>30</td>\n",
              "      <td>41</td>\n",
              "      <td>56</td>\n",
              "      <td>42</td>\n",
              "      <td>210</td>\n",
              "    </tr>\n",
              "    <tr>\n",
              "      <th>approx_2</th>\n",
              "      <td>20</td>\n",
              "      <td>10</td>\n",
              "      <td>12</td>\n",
              "      <td>14</td>\n",
              "      <td>16</td>\n",
              "      <td>14</td>\n",
              "      <td>30</td>\n",
              "    </tr>\n",
              "    <tr>\n",
              "      <th>bbm</th>\n",
              "      <td>61</td>\n",
              "      <td>17</td>\n",
              "      <td>17</td>\n",
              "      <td>31</td>\n",
              "      <td>21</td>\n",
              "      <td>129</td>\n",
              "      <td>975</td>\n",
              "    </tr>\n",
              "  </tbody>\n",
              "</table>\n",
              "</div>"
            ],
            "text/plain": [
              "                             1    2     3    4     5     6      7\n",
              "dynamic_programming_algo  2949  250  2132  672  1643  2194  21848\n",
              "ptas                        87   20    30   41    56    42    210\n",
              "approx_2                    20   10    12   14    16    14     30\n",
              "bbm                         61   17    17   31    21   129    975"
            ]
          },
          "metadata": {
            "tags": []
          },
          "execution_count": 17
        }
      ]
    },
    {
      "cell_type": "markdown",
      "metadata": {
        "id": "WSD6kNel6EZl"
      },
      "source": [
        "## Вес рюкзака:"
      ]
    },
    {
      "cell_type": "code",
      "metadata": {
        "colab": {
          "base_uri": "https://localhost:8080/",
          "height": 170
        },
        "id": "q_kanlLYzZxm",
        "outputId": "a7b5d5c2-fe3e-4aa9-8c74-6465912c48ce"
      },
      "source": [
        "weights_table"
      ],
      "execution_count": null,
      "outputs": [
        {
          "output_type": "execute_result",
          "data": {
            "text/html": [
              "<div>\n",
              "<style scoped>\n",
              "    .dataframe tbody tr th:only-of-type {\n",
              "        vertical-align: middle;\n",
              "    }\n",
              "\n",
              "    .dataframe tbody tr th {\n",
              "        vertical-align: top;\n",
              "    }\n",
              "\n",
              "    .dataframe thead th {\n",
              "        text-align: right;\n",
              "    }\n",
              "</style>\n",
              "<table border=\"1\" class=\"dataframe\">\n",
              "  <thead>\n",
              "    <tr style=\"text-align: right;\">\n",
              "      <th></th>\n",
              "      <th>1</th>\n",
              "      <th>2</th>\n",
              "      <th>3</th>\n",
              "      <th>4</th>\n",
              "      <th>5</th>\n",
              "      <th>6</th>\n",
              "      <th>7</th>\n",
              "    </tr>\n",
              "  </thead>\n",
              "  <tbody>\n",
              "    <tr>\n",
              "      <th>dynamic_programming_algo</th>\n",
              "      <td>165</td>\n",
              "      <td>26</td>\n",
              "      <td>190</td>\n",
              "      <td>50</td>\n",
              "      <td>104</td>\n",
              "      <td>169</td>\n",
              "      <td>749</td>\n",
              "    </tr>\n",
              "    <tr>\n",
              "      <th>ptas</th>\n",
              "      <td>165</td>\n",
              "      <td>26</td>\n",
              "      <td>190</td>\n",
              "      <td>50</td>\n",
              "      <td>104</td>\n",
              "      <td>160</td>\n",
              "      <td>707</td>\n",
              "    </tr>\n",
              "    <tr>\n",
              "      <th>approx_2</th>\n",
              "      <td>165</td>\n",
              "      <td>23</td>\n",
              "      <td>179</td>\n",
              "      <td>50</td>\n",
              "      <td>92</td>\n",
              "      <td>169</td>\n",
              "      <td>740</td>\n",
              "    </tr>\n",
              "    <tr>\n",
              "      <th>bbm</th>\n",
              "      <td>165</td>\n",
              "      <td>26</td>\n",
              "      <td>190</td>\n",
              "      <td>50</td>\n",
              "      <td>104</td>\n",
              "      <td>169</td>\n",
              "      <td>749</td>\n",
              "    </tr>\n",
              "  </tbody>\n",
              "</table>\n",
              "</div>"
            ],
            "text/plain": [
              "                            1   2    3   4    5    6    7\n",
              "dynamic_programming_algo  165  26  190  50  104  169  749\n",
              "ptas                      165  26  190  50  104  160  707\n",
              "approx_2                  165  23  179  50   92  169  740\n",
              "bbm                       165  26  190  50  104  169  749"
            ]
          },
          "metadata": {
            "tags": []
          },
          "execution_count": 18
        }
      ]
    }
  ]
}