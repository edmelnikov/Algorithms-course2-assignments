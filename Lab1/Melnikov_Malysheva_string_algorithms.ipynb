{
  "nbformat": 4,
  "nbformat_minor": 0,
  "metadata": {
    "colab": {
      "name": "АИО Лаб1. Мельников. Малышева.ipynb",
      "provenance": [],
      "collapsed_sections": []
    },
    "kernelspec": {
      "name": "python3",
      "display_name": "Python 3"
    },
    "language_info": {
      "name": "python"
    }
  },
  "cells": [
    {
      "cell_type": "markdown",
      "metadata": {
        "id": "5h4YiqEyPKYl"
      },
      "source": [
        "# Лабораторная работа 1. Алгоритмы поиска подстроки в строке. \n",
        "\n",
        "### Мельников Евгений 18ПМИ-1, Екатерина Малышева 18ПМИ-2"
      ]
    },
    {
      "cell_type": "code",
      "metadata": {
        "id": "fXdo8pGLaRCj",
        "colab": {
          "base_uri": "https://localhost:8080/"
        },
        "outputId": "074aebd7-4cb7-4cae-ba18-3a92aea6614f"
      },
      "source": [
        "import time\n",
        "from google.colab import drive\n",
        "import os\n",
        "import pandas as pd\n",
        "\n",
        "drive.mount('/drive')\n",
        "os.listdir('/drive/MyDrive/string_benchmarks') \n"
      ],
      "execution_count": null,
      "outputs": [
        {
          "output_type": "stream",
          "text": [
            "Mounted at /drive\n"
          ],
          "name": "stdout"
        },
        {
          "output_type": "execute_result",
          "data": {
            "text/plain": [
              "['bad_t_1.txt',\n",
              " 'bad_w_1.txt',\n",
              " 'bad_t_2.txt',\n",
              " 'bad_w_2.txt',\n",
              " 'bad_t_3.txt',\n",
              " 'bad_w_3.txt',\n",
              " 'bad_t_4.txt',\n",
              " 'bad_w_4.txt',\n",
              " 'good_t_1.txt',\n",
              " 'good_w_1.txt',\n",
              " 'good_w_2.txt',\n",
              " 'good_t_2.txt',\n",
              " 'good_t_3.txt',\n",
              " 'good_w_3.txt',\n",
              " 'good_t_4.txt',\n",
              " 'good_w_4.txt']"
            ]
          },
          "metadata": {
            "tags": []
          },
          "execution_count": 1
        }
      ]
    },
    {
      "cell_type": "markdown",
      "metadata": {
        "id": "5wqya8o_ZlgX"
      },
      "source": [
        "## Наивный алгоритм\n"
      ]
    },
    {
      "cell_type": "code",
      "metadata": {
        "id": "NJeT_Y3GZYRE"
      },
      "source": [
        "def naive_algo(string, pattern):  \n",
        "  pattern_inds = []\n",
        "  operations_count = 0\n",
        "\n",
        "  start = time.time()\n",
        "  for left_ind in range(len(string) - len(pattern) + 1):\n",
        "    match_count = 0\n",
        "    for pattern_right_ind in range(len(pattern)):\n",
        "      right_ind = left_ind + pattern_right_ind\n",
        "\n",
        "      operations_count += 1\n",
        "      \n",
        "      if string[right_ind] == pattern[pattern_right_ind]:\n",
        "        match_count += 1\n",
        "      else:\n",
        "        break\n",
        "      if match_count == len(pattern):\n",
        "        pattern_inds.append(left_ind)\n",
        "      \n",
        "\n",
        "    #if text[left_ind:right_ind] == word:\n",
        "    #  pattern_inds.append(left_ind)\n",
        "    #right_ind +=1\n",
        "\n",
        "  #pretty_print(text, word, pattern_inds)\n",
        "  total_time = time.time() - start\n",
        "  return pattern_inds, total_time, operations_count \n"
      ],
      "execution_count": null,
      "outputs": []
    },
    {
      "cell_type": "markdown",
      "metadata": {
        "id": "DGQ-r-TBmdcU"
      },
      "source": [
        "## Алгоритм Рабина-Карпа \n"
      ]
    },
    {
      "cell_type": "code",
      "metadata": {
        "id": "G-UFR6g9mYSt"
      },
      "source": [
        "x = [] # list with x's of different powers, where the index of an element represents the power of x \n",
        "# each element of the list is x to the power of index \n",
        "\n",
        "\n",
        "def hash_func(string, prev_hash=None, prev_first_letter_code=None):\n",
        "  #print(\"calculating hash_code for %s previous hash: %s previous first letter: % s\" %(string, prev_hash, prev_first_letter_code))\n",
        "  # haven't found a better solution than using global variables to store the following data\n",
        "  # I could've used OOP, but I'm way too lazy for this \n",
        "  global x\n",
        "\n",
        "  q = 7919 # just a random prime\n",
        "  \n",
        "  if len(x) == 0: # filling up the list of powers of x \n",
        "    x_1 = 5011  # x to the power of 1\n",
        "    for i in range(len(string)):\n",
        "      x.append(x_1**i)\n",
        "\n",
        "  resulting_hash = 0\n",
        "\n",
        "  if prev_hash is None: # if we haven't calculated the hash yet \n",
        "    for i in range(len(string)):\n",
        "      ascii_code = ord(string[i]) # ascii code of a character\n",
        "      resulting_hash += ascii_code*(x[len(string) - 1 - i])\n",
        "      resulting_hash = resulting_hash % q\n",
        "      \n",
        "  else: # if we have the hash for the previous prefix\n",
        "    #resulting_hash = (((prev_hash - prev_first_letter_code) / x[1]) + (x[len(string)-1]*ord(string[-1]))) % q\n",
        "    resulting_hash = ((prev_hash - prev_first_letter_code*x[len(string)-1])*x[1] + ord(string[-1])) % q\n",
        "  \n",
        "  #print('hashcode for %s: %s' %(string, resulting_hash))\n",
        "  return resulting_hash, ord(string[0])\n",
        "\n",
        "\n",
        "def rabin_karp_algo(string, substring):\n",
        "  substring_inds = []\n",
        "  candidate_hash = None\n",
        "  first_letter_ascii = None\n",
        "  global x\n",
        "  x = []\n",
        "\n",
        "\n",
        "  operations_count = 0\n",
        "  start = time.time()\n",
        "  substring_hash = hash_func(substring)[0] # hash code of a pattern  \n",
        "\n",
        "  for string_ind in range(len(string) - len(substring) + 1):\n",
        "    \n",
        "    match_count = 0  \n",
        "\n",
        "    candidate_hash, first_letter_ascii = hash_func(\n",
        "        string[string_ind:string_ind+len(substring)],\n",
        "        prev_hash=candidate_hash,\n",
        "        prev_first_letter_code=first_letter_ascii)\n",
        "    \n",
        "    operations_count += 1\n",
        "    if candidate_hash == substring_hash:    \n",
        "      for substring_ind in range(len(substring)):\n",
        "        operations_count += 1\n",
        "        #print(substring_ind + string_ind, substring[substring_ind])\n",
        "        if string[substring_ind + string_ind] == substring[substring_ind]:\n",
        "          match_count += 1\n",
        "        else:\n",
        "          #print(\"Collision at\", string_ind)\n",
        "          break\n",
        "      if match_count == len(substring):\n",
        "        #print(\"Found a string at\", string_ind)\n",
        "        substring_inds.append(string_ind)\n",
        "      \n",
        "      #substring_inds.append(string_ind)\n",
        "\n",
        "  total_time = time.time() - start\n",
        "  '''\n",
        "  if len(substring_inds) != 0:\n",
        "    print(\"The substring has been found at\", substring_inds)\n",
        "  else:\n",
        "    print(\"The substring hasn\\'t been found\")\n",
        "  '''\n",
        "  return substring_inds, total_time, operations_count\n"
      ],
      "execution_count": null,
      "outputs": []
    },
    {
      "cell_type": "markdown",
      "metadata": {
        "id": "Xoi9PnWoZRSF"
      },
      "source": [
        "## Алгоритм бойера-мура-хорспула"
      ]
    },
    {
      "cell_type": "code",
      "metadata": {
        "id": "sTz6FR3klopu"
      },
      "source": [
        "def encode(substring):\n",
        "  substring_codes = []\n",
        "  for i in range(len(substring) + 1):\n",
        "    substring_codes.append(0)\n",
        "  substring_codes[len(substring)] = len(substring) # *\n",
        " \n",
        " \n",
        "  letter_offsets = {}\n",
        "  letter_offsets['*'] = len(substring) \n",
        "  letter_offsets[substring[-1]] = len(substring) # last character\n",
        "  \n",
        "  for char_ind in range(len(substring) - 2, -1, -1): # from the (n-1)-th character down to the 0-th\n",
        "    if substring[char_ind] not in letter_offsets:\n",
        "      letter_offsets[substring[char_ind]] = letter_offsets['*'] - char_ind - 1\n",
        "    elif substring[char_ind] in letter_offsets:\n",
        "      letter_offsets[substring[char_ind]] = min(letter_offsets[substring[char_ind]], letter_offsets['*'] - char_ind - 1)\n",
        " \n",
        "  return letter_offsets\n",
        " \n",
        " \n",
        "def bmh_algo(string, substring):\n",
        "  operations_count = 0\n",
        "  #letter_offsets = encode(substring)\n",
        "  #substring_right_ind = letter_offsets['*'] - 1\n",
        " \n",
        "  string_right_ind = 0  \n",
        "  current_offset = 0\n",
        "  match_counter = 0\n",
        " \n",
        "  not_found = False\n",
        "  found_letter = False\n",
        " \n",
        "  substring_inds = []\n",
        "\n",
        "  start_time = time.time()\n",
        "  \n",
        "  letter_offsets = encode(substring)\n",
        "  substring_right_ind = letter_offsets['*'] - 1\n",
        "  while 1: \n",
        "    string_right_ind = substring_right_ind + current_offset\n",
        "    if string_right_ind >= len(string): \n",
        "      break\n",
        " \n",
        " \n",
        "    found_letter = False\n",
        "    match_counter = 0\n",
        " \n",
        "   # print(string_right_ind)\n",
        "    operations_count += 1\n",
        "    if string[string_right_ind] != substring[substring_right_ind]: # when last characters are different\n",
        "      for substring_left_ind in range(substring_right_ind - 1, -1, -1): # going from left to right\n",
        "        operations_count += 1\n",
        "        if substring[substring_left_ind] == string[string_right_ind]: # if a matching letter is found \n",
        "          current_offset += letter_offsets[substring[substring_left_ind]] # then we offset\n",
        "          found_letter = True \n",
        "          break # break, since we are looking for the first matching letter\n",
        " \n",
        "      if not found_letter: # if the letter hasn't been found in the substring, then we offset by the length of the substring\n",
        "        current_offset += letter_offsets[\"*\"]\n",
        " \n",
        " \n",
        "    else: # when last characters match\n",
        " \n",
        "      for substring_left_ind in range(substring_right_ind - 1, -1, -1): # checking the rest of the characters\n",
        "        \n",
        "        string_left_ind = substring_left_ind + current_offset\n",
        "        operations_count += 1\n",
        "        if string[string_left_ind] == substring[substring_left_ind]:\n",
        "          match_counter += 1\n",
        "          #print(string[string_left_ind], substring[substring_left_ind], match_counter)\n",
        "          if match_counter == letter_offsets['*'] - 1:\n",
        "            #print(\"The substring %s has been found at %s \" % (substring, string_left_ind))\n",
        "            substring_inds.append(string_left_ind)\n",
        "            #pretty_print(string, substring, [string_left_ind])\n",
        "            current_offset += letter_offsets['*']\n",
        " \n",
        "        else:\n",
        "          current_offset += letter_offsets[substring[substring_right_ind - 1]]\n",
        " \n",
        "  total_time = time.time() - start_time\n",
        "  '''\n",
        "  if len(substring_inds) != 0:\n",
        "    print(\"The substring has been found at\", substring_inds)\n",
        "  else:\n",
        "    print(\"The substring hasn\\'t been found\")\n",
        "  '''\n",
        "  return substring_inds, total_time, operations_count"
      ],
      "execution_count": null,
      "outputs": []
    },
    {
      "cell_type": "markdown",
      "metadata": {
        "id": "7iA1kq3ndhqK"
      },
      "source": [
        "## Алгоритм Кнута-Мориса-Пратта\n"
      ]
    },
    {
      "cell_type": "code",
      "metadata": {
        "id": "yENIUQXLdn6l"
      },
      "source": [
        "def prefsuff(word):\n",
        "  pi=[]\n",
        "  for i in range(len(word)):\n",
        "    pi.append(0)\n",
        "  pi[0]=0\n",
        "  i, j=1, 0 # индексы \n",
        "  while i!=len(pi):\n",
        "    if word[i]==word[j]:# если символы совпадают, двинаем индексы одновременно \n",
        "      pi[i]=j+1\n",
        "      i+=1\n",
        "      j+=1\n",
        "    elif j==0: # если символы не совпадают и предыдущие не равны, тогда обнуляем pi[i] \n",
        "      pi[i]=0\n",
        "      i+=1\n",
        "    else:\n",
        "      j=pi[j-1]# если предыдущие равны, откатываем до префикса поменьше\n",
        "  return pi\n",
        "\n",
        "def KNP(text, word):\n",
        "  i=0 #индекс для текста\n",
        "  j=0 #индекс для слова\n",
        "  start=time.time()\n",
        "  enter_ind=[]\n",
        "  count_operations=0\n",
        "  wordCount=0\n",
        "  lenText=len(text)\n",
        "  lenWord=len(word)\n",
        "  p=prefsuff(word)\n",
        "  while i!=lenText:\n",
        "    count_operations+=1\n",
        "    #print(i, j)\n",
        "    if text[i]==word[j]:# если символ текста совпадает с символом слова, то двигаем индексы дальше \"параллельно\"\n",
        "      i+=1\n",
        "      j+=1\n",
        "      if j == lenWord:\n",
        "        #print(\"The substring has been found at\", i-lenWord)\n",
        "        enter_ind.append(i-lenWord)\n",
        "        wordCount+=1\n",
        "        j=0\n",
        "    else:# если символы не равны и предыдущие не совпадали, сравниваем дальше с началом слова\n",
        "      if j==0:\n",
        "        i+=1\n",
        "      else: # если символы не равно, но предыдущие совпадали, тогда сравниваем текст с префиксом слова(если есть)\n",
        "        j = p[j-1]\n",
        "  if wordCount==0:\n",
        "    print(\"The substring hasn\\'t been found\")\n",
        "  end = time.time()-start\n",
        "  return enter_ind, end, count_operations\n",
        "\n",
        "  \n",
        "  \n"
      ],
      "execution_count": null,
      "outputs": []
    },
    {
      "cell_type": "markdown",
      "metadata": {
        "id": "prG3ou5Tvuh6"
      },
      "source": [
        "Алгоритм Ахо-Корасика\n",
        "\n"
      ]
    },
    {
      "cell_type": "code",
      "metadata": {
        "id": "CjuT19xq1JUP"
      },
      "source": [
        "class BorNode:\n",
        "  def __init__(self):\n",
        "        self.go_to = {} # словарь вершин - детей\n",
        "        self.out = [] # слово от корня до текущей вершины\n",
        "        #self.terminal=False\n",
        "        self.fake = None # фейковая ссылка\n",
        "    \n",
        "\n",
        "def make_machine(words):\n",
        "    if type(words) is not list:\n",
        "        words=[words]\n",
        "#создаем начальный автомат без ссылок \n",
        "    root = BorNode() #создаем пустой корень\n",
        "    for word in words:\n",
        "        node = root\n",
        "        for symbol in word:\n",
        "            node = node.go_to.setdefault(symbol, BorNode()) \n",
        "        node.out.append(word)\n",
        "#Образуем ссылки:\n",
        "#  От всех первых символов проводим фейковую ссылку в пустой корень и дальше обходим в ширину\n",
        "    queue = []\n",
        "    for node in root.go_to.values():\n",
        "        queue.append(node)\n",
        "        node.fake = root\n",
        "\n",
        "    while len(queue) > 0:\n",
        "        node1 = queue.pop(0) #родитель\n",
        "        for key, node2 in node1.go_to.items():# идем по детям \n",
        "            queue.append(node2)\n",
        "            node_fake = node1.fake # фейковая ссылка родителя\n",
        "            while node_fake is not None and key not in node_fake.go_to: #если из фейковой ссылки родителя нет ребра в вершину с символом ребенка\n",
        "                node_fake = node_fake.fake # то двигаемся наверх по фейковой ссылке к прародителям, пока не найдем переход в вершину с таким же символом как у ребенка\n",
        "            if node_fake:# если нашли, устанавливаем фейковую ссылку\n",
        "              node2.fake = node_fake.go_to[key] \n",
        "            else: # если не нашли, устанавливаем ссылку на корень\n",
        "              node2.fake = root\n",
        "            node2.out += node2.fake.out\n",
        "    return root\n",
        "\n",
        "def Aho_Korasik(text, words):\n",
        "    enter_ind=[]\n",
        "    operation_count=0\n",
        "    start=time.time()\n",
        "    root= make_machine(words)\n",
        "    node=root\n",
        "    \n",
        "    for i in range(len(text)):\n",
        "        operation_count+=1\n",
        "        while node is not None and text[i] not in node.go_to:# если у текущей вершины нет ребенка с символом из текста\n",
        "            node = node.fake #тогда переходим по фейковой ссылке\n",
        "        if node is None:\n",
        "            node = root\n",
        "            continue\n",
        "        node = node.go_to[text[i]]\n",
        "        for word in node.out:\n",
        "            enter_ind.append( i - len(word) + 1)\n",
        "    end = time.time() - start \n",
        "    return enter_ind, end, operation_count\n"
      ],
      "execution_count": null,
      "outputs": []
    },
    {
      "cell_type": "code",
      "metadata": {
        "colab": {
          "base_uri": "https://localhost:8080/"
        },
        "id": "zvDwgAV4sA0m",
        "outputId": "34e11e10-10af-46e1-93b9-b1d97a79996a"
      },
      "source": [
        "\n",
        "time_df, operations_df, enter_ind_df = benchmark(\"/drive/MyDrive/string_benchmarks/\").report()\n"
      ],
      "execution_count": null,
      "outputs": [
        {
          "output_type": "stream",
          "text": [
            "Opening up input files...\n",
            "Finished\n",
            "Checking naive_algo\n",
            "Checking rabin_karp_algo\n",
            "Checking bmh_algo\n",
            "Checking KNP\n",
            "Checking Aho_Korasik\n"
          ],
          "name": "stdout"
        }
      ]
    },
    {
      "cell_type": "markdown",
      "metadata": {
        "id": "m5WPJi_TO8-1"
      },
      "source": [
        "## Время выполнения"
      ]
    },
    {
      "cell_type": "code",
      "metadata": {
        "colab": {
          "base_uri": "https://localhost:8080/",
          "height": 200
        },
        "id": "JqCrAaKUSnyB",
        "outputId": "2544761f-df93-414a-cdb7-76143026f24a"
      },
      "source": [
        "time_df"
      ],
      "execution_count": null,
      "outputs": [
        {
          "output_type": "execute_result",
          "data": {
            "text/html": [
              "<div>\n",
              "<style scoped>\n",
              "    .dataframe tbody tr th:only-of-type {\n",
              "        vertical-align: middle;\n",
              "    }\n",
              "\n",
              "    .dataframe tbody tr th {\n",
              "        vertical-align: top;\n",
              "    }\n",
              "\n",
              "    .dataframe thead th {\n",
              "        text-align: right;\n",
              "    }\n",
              "</style>\n",
              "<table border=\"1\" class=\"dataframe\">\n",
              "  <thead>\n",
              "    <tr style=\"text-align: right;\">\n",
              "      <th></th>\n",
              "      <th>good1</th>\n",
              "      <th>good2</th>\n",
              "      <th>good3</th>\n",
              "      <th>good4</th>\n",
              "      <th>bad1</th>\n",
              "      <th>bad2</th>\n",
              "      <th>bad3</th>\n",
              "      <th>bad4</th>\n",
              "    </tr>\n",
              "  </thead>\n",
              "  <tbody>\n",
              "    <tr>\n",
              "      <th>naive_algo</th>\n",
              "      <td>0.000442</td>\n",
              "      <td>0.000587</td>\n",
              "      <td>0.002124</td>\n",
              "      <td>0.005754</td>\n",
              "      <td>0.000007</td>\n",
              "      <td>0.000247</td>\n",
              "      <td>0.023726</td>\n",
              "      <td>1.291739</td>\n",
              "    </tr>\n",
              "    <tr>\n",
              "      <th>rabin_karp_algo</th>\n",
              "      <td>0.001047</td>\n",
              "      <td>0.002405</td>\n",
              "      <td>0.017487</td>\n",
              "      <td>0.022605</td>\n",
              "      <td>0.000014</td>\n",
              "      <td>0.000121</td>\n",
              "      <td>0.002076</td>\n",
              "      <td>0.063344</td>\n",
              "    </tr>\n",
              "    <tr>\n",
              "      <th>bmh_algo</th>\n",
              "      <td>0.000172</td>\n",
              "      <td>0.000286</td>\n",
              "      <td>0.001201</td>\n",
              "      <td>0.002868</td>\n",
              "      <td>0.000009</td>\n",
              "      <td>0.000090</td>\n",
              "      <td>0.000788</td>\n",
              "      <td>0.004303</td>\n",
              "    </tr>\n",
              "    <tr>\n",
              "      <th>KNP</th>\n",
              "      <td>0.000185</td>\n",
              "      <td>0.000339</td>\n",
              "      <td>0.001162</td>\n",
              "      <td>0.003259</td>\n",
              "      <td>0.000005</td>\n",
              "      <td>0.000053</td>\n",
              "      <td>0.000490</td>\n",
              "      <td>0.002858</td>\n",
              "    </tr>\n",
              "    <tr>\n",
              "      <th>Aho_Korasik</th>\n",
              "      <td>0.000305</td>\n",
              "      <td>0.001425</td>\n",
              "      <td>0.002139</td>\n",
              "      <td>0.004358</td>\n",
              "      <td>0.000012</td>\n",
              "      <td>0.000071</td>\n",
              "      <td>0.000694</td>\n",
              "      <td>0.008471</td>\n",
              "    </tr>\n",
              "  </tbody>\n",
              "</table>\n",
              "</div>"
            ],
            "text/plain": [
              "                    good1     good2     good3  ...      bad2      bad3      bad4\n",
              "naive_algo       0.000442  0.000587  0.002124  ...  0.000247  0.023726  1.291739\n",
              "rabin_karp_algo  0.001047  0.002405  0.017487  ...  0.000121  0.002076  0.063344\n",
              "bmh_algo         0.000172  0.000286  0.001201  ...  0.000090  0.000788  0.004303\n",
              "KNP              0.000185  0.000339  0.001162  ...  0.000053  0.000490  0.002858\n",
              "Aho_Korasik      0.000305  0.001425  0.002139  ...  0.000071  0.000694  0.008471\n",
              "\n",
              "[5 rows x 8 columns]"
            ]
          },
          "metadata": {
            "tags": []
          },
          "execution_count": 10
        }
      ]
    },
    {
      "cell_type": "markdown",
      "metadata": {
        "id": "dCe6fKT7PAOW"
      },
      "source": [
        "## Количество операций сравнения"
      ]
    },
    {
      "cell_type": "code",
      "metadata": {
        "id": "yM9h4pY41wVX",
        "colab": {
          "base_uri": "https://localhost:8080/",
          "height": 200
        },
        "outputId": "4d511e4f-4f9c-4ee8-8d81-ec2b4ef7435a"
      },
      "source": [
        "operations_df"
      ],
      "execution_count": null,
      "outputs": [
        {
          "output_type": "execute_result",
          "data": {
            "text/html": [
              "<div>\n",
              "<style scoped>\n",
              "    .dataframe tbody tr th:only-of-type {\n",
              "        vertical-align: middle;\n",
              "    }\n",
              "\n",
              "    .dataframe tbody tr th {\n",
              "        vertical-align: top;\n",
              "    }\n",
              "\n",
              "    .dataframe thead th {\n",
              "        text-align: right;\n",
              "    }\n",
              "</style>\n",
              "<table border=\"1\" class=\"dataframe\">\n",
              "  <thead>\n",
              "    <tr style=\"text-align: right;\">\n",
              "      <th></th>\n",
              "      <th>good1</th>\n",
              "      <th>good2</th>\n",
              "      <th>good3</th>\n",
              "      <th>good4</th>\n",
              "      <th>bad1</th>\n",
              "      <th>bad2</th>\n",
              "      <th>bad3</th>\n",
              "      <th>bad4</th>\n",
              "    </tr>\n",
              "  </thead>\n",
              "  <tbody>\n",
              "    <tr>\n",
              "      <th>naive_algo</th>\n",
              "      <td>714</td>\n",
              "      <td>1158</td>\n",
              "      <td>3554</td>\n",
              "      <td>10714</td>\n",
              "      <td>18</td>\n",
              "      <td>910</td>\n",
              "      <td>90100</td>\n",
              "      <td>4001000</td>\n",
              "    </tr>\n",
              "    <tr>\n",
              "      <th>rabin_karp_algo</th>\n",
              "      <td>695</td>\n",
              "      <td>1159</td>\n",
              "      <td>3440</td>\n",
              "      <td>10716</td>\n",
              "      <td>11</td>\n",
              "      <td>101</td>\n",
              "      <td>1001</td>\n",
              "      <td>5001</td>\n",
              "    </tr>\n",
              "    <tr>\n",
              "      <th>bmh_algo</th>\n",
              "      <td>714</td>\n",
              "      <td>1114</td>\n",
              "      <td>3170</td>\n",
              "      <td>11098</td>\n",
              "      <td>18</td>\n",
              "      <td>190</td>\n",
              "      <td>1900</td>\n",
              "      <td>9000</td>\n",
              "    </tr>\n",
              "    <tr>\n",
              "      <th>KNP</th>\n",
              "      <td>713</td>\n",
              "      <td>1158</td>\n",
              "      <td>3539</td>\n",
              "      <td>10714</td>\n",
              "      <td>18</td>\n",
              "      <td>190</td>\n",
              "      <td>1900</td>\n",
              "      <td>9000</td>\n",
              "    </tr>\n",
              "    <tr>\n",
              "      <th>Aho_Korasik</th>\n",
              "      <td>694</td>\n",
              "      <td>1158</td>\n",
              "      <td>3438</td>\n",
              "      <td>10714</td>\n",
              "      <td>10</td>\n",
              "      <td>100</td>\n",
              "      <td>1000</td>\n",
              "      <td>5000</td>\n",
              "    </tr>\n",
              "  </tbody>\n",
              "</table>\n",
              "</div>"
            ],
            "text/plain": [
              "                 good1  good2  good3  good4  bad1  bad2   bad3     bad4\n",
              "naive_algo         714   1158   3554  10714    18   910  90100  4001000\n",
              "rabin_karp_algo    695   1159   3440  10716    11   101   1001     5001\n",
              "bmh_algo           714   1114   3170  11098    18   190   1900     9000\n",
              "KNP                713   1158   3539  10714    18   190   1900     9000\n",
              "Aho_Korasik        694   1158   3438  10714    10   100   1000     5000"
            ]
          },
          "metadata": {
            "tags": []
          },
          "execution_count": 11
        }
      ]
    },
    {
      "cell_type": "markdown",
      "metadata": {
        "id": "UuJUrVQfPEJt"
      },
      "source": [
        "## Индексы вхождений подстроки в строку"
      ]
    },
    {
      "cell_type": "code",
      "metadata": {
        "colab": {
          "base_uri": "https://localhost:8080/",
          "height": 200
        },
        "id": "rTdZI_TellOO",
        "outputId": "4e15de82-b13b-4d9b-a699-2aa25f31b816"
      },
      "source": [
        "enter_ind_df"
      ],
      "execution_count": null,
      "outputs": [
        {
          "output_type": "execute_result",
          "data": {
            "text/html": [
              "<div>\n",
              "<style scoped>\n",
              "    .dataframe tbody tr th:only-of-type {\n",
              "        vertical-align: middle;\n",
              "    }\n",
              "\n",
              "    .dataframe tbody tr th {\n",
              "        vertical-align: top;\n",
              "    }\n",
              "\n",
              "    .dataframe thead th {\n",
              "        text-align: right;\n",
              "    }\n",
              "</style>\n",
              "<table border=\"1\" class=\"dataframe\">\n",
              "  <thead>\n",
              "    <tr style=\"text-align: right;\">\n",
              "      <th></th>\n",
              "      <th>good1</th>\n",
              "      <th>good2</th>\n",
              "      <th>good3</th>\n",
              "      <th>good4</th>\n",
              "      <th>bad1</th>\n",
              "      <th>bad2</th>\n",
              "      <th>bad3</th>\n",
              "      <th>bad4</th>\n",
              "    </tr>\n",
              "  </thead>\n",
              "  <tbody>\n",
              "    <tr>\n",
              "      <th>naive_algo</th>\n",
              "      <td>[599]</td>\n",
              "      <td>[610]</td>\n",
              "      <td>[1629]</td>\n",
              "      <td>[9522]</td>\n",
              "      <td>[8]</td>\n",
              "      <td>[90]</td>\n",
              "      <td>[900]</td>\n",
              "      <td>[4000]</td>\n",
              "    </tr>\n",
              "    <tr>\n",
              "      <th>rabin_karp_algo</th>\n",
              "      <td>[599]</td>\n",
              "      <td>[610]</td>\n",
              "      <td>[1629]</td>\n",
              "      <td>[9522]</td>\n",
              "      <td>[8]</td>\n",
              "      <td>[90]</td>\n",
              "      <td>[900]</td>\n",
              "      <td>[4000]</td>\n",
              "    </tr>\n",
              "    <tr>\n",
              "      <th>bmh_algo</th>\n",
              "      <td>[599]</td>\n",
              "      <td>[610]</td>\n",
              "      <td>[1629]</td>\n",
              "      <td>[9522]</td>\n",
              "      <td>[8]</td>\n",
              "      <td>[90]</td>\n",
              "      <td>[900]</td>\n",
              "      <td>[4000]</td>\n",
              "    </tr>\n",
              "    <tr>\n",
              "      <th>KNP</th>\n",
              "      <td>[599]</td>\n",
              "      <td>[610]</td>\n",
              "      <td>[1629]</td>\n",
              "      <td>[9522]</td>\n",
              "      <td>[8]</td>\n",
              "      <td>[90]</td>\n",
              "      <td>[900]</td>\n",
              "      <td>[4000]</td>\n",
              "    </tr>\n",
              "    <tr>\n",
              "      <th>Aho_Korasik</th>\n",
              "      <td>[599]</td>\n",
              "      <td>[610]</td>\n",
              "      <td>[1629]</td>\n",
              "      <td>[9522]</td>\n",
              "      <td>[8]</td>\n",
              "      <td>[90]</td>\n",
              "      <td>[900]</td>\n",
              "      <td>[4000]</td>\n",
              "    </tr>\n",
              "  </tbody>\n",
              "</table>\n",
              "</div>"
            ],
            "text/plain": [
              "                 good1  good2   good3   good4 bad1  bad2   bad3    bad4\n",
              "naive_algo       [599]  [610]  [1629]  [9522]  [8]  [90]  [900]  [4000]\n",
              "rabin_karp_algo  [599]  [610]  [1629]  [9522]  [8]  [90]  [900]  [4000]\n",
              "bmh_algo         [599]  [610]  [1629]  [9522]  [8]  [90]  [900]  [4000]\n",
              "KNP              [599]  [610]  [1629]  [9522]  [8]  [90]  [900]  [4000]\n",
              "Aho_Korasik      [599]  [610]  [1629]  [9522]  [8]  [90]  [900]  [4000]"
            ]
          },
          "metadata": {
            "tags": []
          },
          "execution_count": 12
        }
      ]
    }
  ]
}