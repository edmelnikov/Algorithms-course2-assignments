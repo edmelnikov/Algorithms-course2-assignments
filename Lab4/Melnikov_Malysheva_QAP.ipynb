{
 "cells": [
  {
   "cell_type": "markdown",
   "metadata": {
    "id": "DAbj1zRU5UQD"
   },
   "source": [
    "# Лабораторная работа 4. Алгоритмы для решения Quadratic Assignment Problem\n",
    "\n",
    "## Мельников Евгений 18ПМИ-1. Малышева Екатерина 18ПМИ-2.\n"
   ]
  },
  {
   "cell_type": "code",
   "execution_count": 1,
   "metadata": {
    "id": "qpeR0fIFbWY7"
   },
   "outputs": [],
   "source": [
    "import time\n",
    "from google.colab import drive\n",
    "import os\n",
    "import pandas as pd\n",
    "import numpy as np\n",
    "import networkx as nx\n",
    "from collections import defaultdict\n",
    "from math import gcd, floor\n",
    "from random import randint\n",
    "import time\n",
    "from itertools import *\n",
    "from scipy.optimize import linprog\n",
    "import copy\n",
    "import random\n",
    "from tqdm import tqdm\n"
   ]
  },
  {
   "cell_type": "code",
   "execution_count": 3,
   "metadata": {
    "colab": {
     "base_uri": "https://localhost:8080/"
    },
    "id": "ViC8s4AtJfrh",
    "outputId": "a98a455e-23f0-49ec-87ed-3f918fbe0281"
   },
   "outputs": [
    {
     "name": "stdout",
     "output_type": "stream",
     "text": [
      "Drive already mounted at /drive; to attempt to forcibly remount, call drive.mount(\"/drive\", force_remount=True).\n"
     ]
    },
    {
     "data": {
      "text/plain": [
       "['tai100a.txt',\n",
       " 'tai80a.txt',\n",
       " 'tai20a.txt',\n",
       " 'tai40a.txt',\n",
       " 'tai60a.txt',\n",
       " 'output']"
      ]
     },
     "execution_count": 3,
     "metadata": {
      "tags": []
     },
     "output_type": "execute_result"
    }
   ],
   "source": [
    "drive.mount('/drive')\n",
    "os.listdir('/drive/MyDrive/qap_benchmarks')"
   ]
  },
  {
   "cell_type": "markdown",
   "metadata": {
    "id": "HsJNo82uIQ5v"
   },
   "source": [
    "## 2-opt local search with first improvement + don't look bits\n"
   ]
  },
  {
   "cell_type": "code",
   "execution_count": 4,
   "metadata": {
    "id": "NsyOtiSch1HQ"
   },
   "outputs": [],
   "source": [
    "class qap:\n",
    "\n",
    "  def __str__(self):\n",
    "      return 'qap'\n",
    "      \n",
    "\n",
    "  def __init__(self, distances, flows, n):\n",
    "    self.n = n\n",
    "    self.distances = distances\n",
    "    self.flows = flows \n",
    "    self.best_solution = list(range(0, n)) # initial solution\n",
    "    random.shuffle(self.best_solution)\n",
    "    self.best_func = self.calc_opt_f(self.best_solution)\n",
    "    \n",
    "  def calc_opt_f(self, positions): #[2, 3, 5, 6] \n",
    "    func = 0\n",
    "    for i in range(self.n): \n",
    "      for j in range(self.n): # we iterate over CITIES\n",
    "              \n",
    "        #func += self.flows[i][j] * self.distances[positions[i]][positions[j]]\n",
    "\n",
    "        # positions[i] returns the index of the PLANT located in the i-th city\n",
    "        # we multiply the distances between city i and city j by the flow between the plants located in those cities\n",
    "        # In order to get the index of the plant, located in the i-th or j-th city, we use the positions list\n",
    "        # Thus, this formula should be correct\n",
    "        func += self.flows[positions[i]][positions[j]] * self.distances[i][j] \n",
    "          \n",
    "          \n",
    "    return func\n",
    "\n",
    "  \n",
    "  def swap(self, lst, ind1, ind2): \n",
    "    tmp = lst[ind1]\n",
    "    lst[ind1] = lst[ind2]\n",
    "    lst[ind2] = tmp\n",
    "    return lst\n",
    "\n",
    "\n",
    "  def local_search(self): \n",
    "    swap_count = np.zeros(self.n, dtype=int)  # stores numbers of permutations without improvements for every plant\n",
    "    dlb = np.zeros(self.n, dtype=int)  # don't look bits. If the number of permutations of a plant is equal to n-1, then we add it to dlb ...\n",
    "    # ... and don't swap it anymore\n",
    "    start_time = time.time()\n",
    "\n",
    "    def local_search_rec(current_solution):\n",
    "      #print(dlb)\n",
    "      for i in range(self.n-1): # iterate over Cities\n",
    "        for j in range(i+1, self.n):\n",
    "          if dlb[current_solution[j]] == True or dlb[current_solution[i]] == True: # we don't swap the plants if one of them is in dlb list\n",
    "            continue\n",
    "          else:\n",
    "            self.swap(current_solution, i, j)\n",
    "            current_func = self.calc_opt_f(current_solution)\n",
    "            if current_func < self.best_func:\n",
    "              self.best_solution = current_solution\n",
    "              self.best_func = current_func\n",
    "\n",
    "              return local_search_rec(current_solution) # first improvement?\n",
    "\n",
    "            else:\n",
    "              swap_count[current_solution[i]] += 1 # if swapping plants hasn't improved the function\n",
    "              swap_count[current_solution[j]] += 1\n",
    "              if swap_count[current_solution[i]] == self.n - 1: # if a plant has been swapped n - 1 times, then we add it to dlb\n",
    "                dlb[current_solution[i]] = True\n",
    "              if swap_count[current_solution[j]] == self.n - 1:\n",
    "                dlb[current_solution[j]] = True\n",
    "\n",
    "    local_search_rec(self.best_solution)\n",
    "\n",
    "\n",
    "    return self.best_solution, self.best_func, time.time() - start_time\n",
    "\n"
   ]
  },
  {
   "cell_type": "markdown",
   "metadata": {
    "id": "r1aLxJoy5jSp"
   },
   "source": [
    "## Iterated local search + stochastic 2-opt\n"
   ]
  },
  {
   "cell_type": "code",
   "execution_count": 5,
   "metadata": {
    "id": "VyQxRCZOt8ju"
   },
   "outputs": [],
   "source": [
    "class qap_iterated(qap):\n",
    "\n",
    "    def __str__(self):\n",
    "      return 'qap_iterated'\n",
    "\n",
    "    def __init__(self, distances, flows, n, solution = False):\n",
    "        self.n = n\n",
    "        self.distances = distances\n",
    "        self.flows = flows \n",
    "        if solution:\n",
    "            self.best_solution = solution\n",
    "        else:\n",
    "            self.best_solution = list(np.random.permutation(n))\n",
    "        self.best_func = self.calc_opt_f(self.best_solution)\n",
    "    \n",
    "    def __name__(self):\n",
    "      return 'qap_iterated'\n",
    "    \n",
    "    def stochastic_local_search(self, permut_max, solution = False):\n",
    "        \n",
    "        if not solution:\n",
    "            solution = self.best_solution\n",
    "            \n",
    "        tmp_best_sol = []\n",
    "        curr_sol=[]\n",
    "        for el in solution:\n",
    "            tmp_best_sol.append(el)\n",
    "            curr_sol.append(el)    \n",
    "            \n",
    "        tmp_best_f = self.calc_opt_f(tmp_best_sol)\n",
    "        curr_f = self.calc_opt_f(curr_sol) \n",
    "        \n",
    "        \n",
    "        for i in range(permut_max):\n",
    "            \n",
    "            ind_l = random.randint(0, self.n - 2)\n",
    "            ind_r = random.randint(ind_l + 1, self.n-1)\n",
    "            \n",
    "            curr_sol[ind_l:ind_r] = curr_sol[ind_l:ind_r][::-1]\n",
    "            curr_f = self.calc_opt_f(curr_sol)\n",
    "            \n",
    "            if curr_f < tmp_best_f:\n",
    "                tmp_best_sol = curr_sol\n",
    "                tmp_best_f = curr_f\n",
    "                \n",
    "        return tmp_best_sol, tmp_best_f\n",
    "    \n",
    "    def iterated_local_search(self, iters):\n",
    "        start = time.time()\n",
    "        \n",
    "        self.best_solution, self.best_func = self.stochastic_local_search(iters//5)\n",
    "        \n",
    "        for i in range(iters):\n",
    "            #perturbation\n",
    "            sol, f = self.best_solution, self.best_func\n",
    "            \n",
    "            k = random.randint(1, self.n-1)\n",
    "            inds = np.random.choice(self.n, k, replace=False)\n",
    "            shuffled_inds = np.random.permutation(inds)\n",
    "            new_sol = sol.copy()\n",
    "            for i in range(k):\n",
    "                new_sol[inds[i]] = sol[shuffled_inds[i]]\n",
    "            \n",
    "            #local search (stochastic)\n",
    "            new_sol_opt, new_sol_opt_f = self.stochastic_local_search(iters//5, new_sol)\n",
    "            \n",
    "            #acceptance criterion\n",
    "            if new_sol_opt_f < f:\n",
    "                self.best_solution, self.best_func = new_sol_opt, new_sol_opt_f \n",
    "        \n",
    "        end = time.time() - start\n",
    "        return self.best_solution, self.best_func, end"
   ]
  },
  {
   "cell_type": "markdown",
   "metadata": {
    "id": "7RzEpmGKIk2E"
   },
   "source": [
    "# Benchmarks\n"
   ]
  },
  {
   "cell_type": "code",
   "execution_count": 6,
   "metadata": {
    "id": "4Wpo9yIG7rPZ"
   },
   "outputs": [],
   "source": [
    "class benchmarks_qap:\n",
    "  # \n",
    "  def __init__(self, path, verbose=False): # path to a folder, which contains benchmark files\n",
    "    self.benchmark_names = []\n",
    "    self.benchmark_n = {}\n",
    "    self.benchmark_distances = {}\n",
    "    self.benchmark_flows = {}\n",
    "    \n",
    "    \n",
    "    self.verbose = verbose\n",
    "    self.path = path\n",
    "    if self.verbose:\n",
    "      print(\"Opening up qap files...\")\n",
    "\n",
    "    for filename in os.listdir(path):\n",
    "      if filename != \"output\":\n",
    "        benchmark_name = filename[:-4]\n",
    "        print(benchmark_name)\n",
    "        self.benchmark_names.append(benchmark_name)      \n",
    "        text = open(path + '/' + filename)\n",
    "\n",
    "        n = int(text.readline())\n",
    "        self.benchmark_n[benchmark_name] = n\n",
    "        \n",
    "        self.benchmark_distances[benchmark_name] = []\n",
    "        for i in range(n):\n",
    "          self.benchmark_distances[benchmark_name].append(list(map(int, text.readline().split())))\n",
    "\n",
    "        text.readline()\n",
    "\n",
    "        self.benchmark_flows[benchmark_name] = []\n",
    "        for i in range(n):\n",
    "          self.benchmark_flows[benchmark_name].append(list(map(int, text.readline().split())))\n",
    "\n",
    "    if self.verbose:\n",
    "      print(\"Finished\")      \n",
    "\n",
    "\n",
    "  def check_single_benchmark(self, algorithm, times_repeat=5): \n",
    "    mean_time = 0    \n",
    "    best_found_sol =[]\n",
    "    best_found_f = 9223372036854775807\n",
    "    #print(algorithm)\n",
    "    for i in range(times_repeat):\n",
    "      if self.verbose:\n",
    "        print(\"Try\", algorithm,  i)\n",
    "      if algorithm.__str__()  == 'qap': \n",
    "        solution, func, time = algorithm.local_search()\n",
    "      else:\n",
    "        solution, func, time = algorithm.iterated_local_search(100)\n",
    "      if func < best_found_f:\n",
    "        best_found_f = func\n",
    "        best_found_sol = solution\n",
    "\n",
    "      mean_time += time\n",
    "\n",
    "    return best_found_sol, best_found_f, mean_time/times_repeat\n",
    "\n",
    "\n",
    "  def report(self):\n",
    "    time_table = {}\n",
    "    func_table = {}\n",
    "    #sol_table = {}\n",
    "\n",
    "    for benchmark_name in self.benchmark_names:\n",
    "      if self.verbose:\n",
    "        print(\"Running %s...\" %(benchmark_name))\n",
    "      \n",
    "      file = open(self.path + \"/output/\" + benchmark_name + \".sol\", \"w\")\n",
    "\n",
    "      time_table[benchmark_name] = [] \n",
    "      func_table[benchmark_name] = []\n",
    "      #sol_table[benchmark_name] = []\n",
    "\n",
    "      results = self.check_single_benchmark(\n",
    "          qap(self.benchmark_distances[benchmark_name], self.benchmark_flows[benchmark_name], self.benchmark_n[benchmark_name])\n",
    "      )\n",
    "      \n",
    "      \n",
    "      #sol_table[benchmark_name].append(results[0])\n",
    "      time_table[benchmark_name].append(results[2])\n",
    "      func_table[benchmark_name].append(results[1])\n",
    "      file.write(\" \".join(str(x) for x in results[0]))\n",
    "      file.write(\"\\n\")\n",
    "\n",
    "      results = self.check_single_benchmark(\n",
    "          qap_iterated(self.benchmark_distances[benchmark_name], self.benchmark_flows[benchmark_name], self.benchmark_n[benchmark_name])\n",
    "      )\n",
    "      #sol_table[benchmark_name].append(results[0])\n",
    "      time_table[benchmark_name].append(results[2]) \n",
    "      func_table[benchmark_name].append(results[1])\n",
    "      file.write(\" \".join(str(x) for x in results[0]))\n",
    "      \n",
    "      file.close()\n",
    "\n",
    "\n",
    "    time_table = pd.DataFrame.from_dict(time_table)\n",
    "    func_table = pd.DataFrame.from_dict(func_table)\n",
    "    #sol_table = pd.DataFrame.from_dict(sol_table)\n",
    "\n",
    "    time_table = time_table.rename(index={0: '2-opt local search with first improvement + don\\'t look bits',\n",
    "                                          1: 'Iterated local search + stochastic 2-opt, iter = 100'})\n",
    "    func_table = func_table.rename(index={0: '2-opt local search with first improvement + don\\'t look bits',\n",
    "                                          1: 'Iterated local search + stochastic 2-opt, iter = 100'})\n",
    "    #sol_table = sol_table.rename(index={0: '2-opt local search with first improvement + don\\'t look bits',\n",
    "    #                                      1: 'Iterated local search + stochastic 2-opt, iter = 100'})\n",
    "    \n",
    "\n",
    "\n",
    "    return time_table, func_table\n"
   ]
  },
  {
   "cell_type": "code",
   "execution_count": 7,
   "metadata": {
    "colab": {
     "base_uri": "https://localhost:8080/"
    },
    "id": "2jGhEKyJI2sy",
    "outputId": "be9392a8-4fa1-4402-f8b4-56d7f7a49199"
   },
   "outputs": [
    {
     "name": "stdout",
     "output_type": "stream",
     "text": [
      "tai100a\n",
      "tai80a\n",
      "tai20a\n",
      "tai40a\n",
      "tai60a\n"
     ]
    }
   ],
   "source": [
    "benchmarks = benchmarks_qap('/drive/MyDrive/qap_benchmarks', verbose=False)\n",
    "\n",
    "time_table, func_table = benchmarks.report()"
   ]
  },
  {
   "cell_type": "markdown",
   "metadata": {
    "id": "OhfAMl0R2nOn"
   },
   "source": [
    "# Время выполнения алгоритмов:"
   ]
  },
  {
   "cell_type": "code",
   "execution_count": 8,
   "metadata": {
    "colab": {
     "base_uri": "https://localhost:8080/",
     "height": 112
    },
    "id": "RX6DMjgaJ8SW",
    "outputId": "f15ac546-3f11-40e4-f51e-0176b57e4dfa"
   },
   "outputs": [
    {
     "data": {
      "text/html": [
       "<div>\n",
       "<style scoped>\n",
       "    .dataframe tbody tr th:only-of-type {\n",
       "        vertical-align: middle;\n",
       "    }\n",
       "\n",
       "    .dataframe tbody tr th {\n",
       "        vertical-align: top;\n",
       "    }\n",
       "\n",
       "    .dataframe thead th {\n",
       "        text-align: right;\n",
       "    }\n",
       "</style>\n",
       "<table border=\"1\" class=\"dataframe\">\n",
       "  <thead>\n",
       "    <tr style=\"text-align: right;\">\n",
       "      <th></th>\n",
       "      <th>tai100a</th>\n",
       "      <th>tai80a</th>\n",
       "      <th>tai20a</th>\n",
       "      <th>tai40a</th>\n",
       "      <th>tai60a</th>\n",
       "    </tr>\n",
       "  </thead>\n",
       "  <tbody>\n",
       "    <tr>\n",
       "      <th>2-opt local search with first improvement + don't look bits</th>\n",
       "      <td>10.258241</td>\n",
       "      <td>4.696206</td>\n",
       "      <td>0.018215</td>\n",
       "      <td>0.301681</td>\n",
       "      <td>1.438983</td>\n",
       "    </tr>\n",
       "    <tr>\n",
       "      <th>Iterated local search + stochastic 2-opt, iter = 100</th>\n",
       "      <td>6.228793</td>\n",
       "      <td>4.019396</td>\n",
       "      <td>0.269897</td>\n",
       "      <td>1.031936</td>\n",
       "      <td>2.294664</td>\n",
       "    </tr>\n",
       "  </tbody>\n",
       "</table>\n",
       "</div>"
      ],
      "text/plain": [
       "                                                      tai100a  ...    tai60a\n",
       "2-opt local search with first improvement + don...  10.258241  ...  1.438983\n",
       "Iterated local search + stochastic 2-opt, iter ...   6.228793  ...  2.294664\n",
       "\n",
       "[2 rows x 5 columns]"
      ]
     },
     "execution_count": 8,
     "metadata": {
      "tags": []
     },
     "output_type": "execute_result"
    }
   ],
   "source": [
    "time_table"
   ]
  },
  {
   "cell_type": "markdown",
   "metadata": {
    "id": "sEwWeTME2yOv"
   },
   "source": [
    "# Лучший результат работы алгоритмов:"
   ]
  },
  {
   "cell_type": "code",
   "execution_count": 9,
   "metadata": {
    "colab": {
     "base_uri": "https://localhost:8080/",
     "height": 112
    },
    "id": "_Un30UjzKOwE",
    "outputId": "cea00587-4e03-405b-8987-44adfd7fd875"
   },
   "outputs": [
    {
     "data": {
      "text/html": [
       "<div>\n",
       "<style scoped>\n",
       "    .dataframe tbody tr th:only-of-type {\n",
       "        vertical-align: middle;\n",
       "    }\n",
       "\n",
       "    .dataframe tbody tr th {\n",
       "        vertical-align: top;\n",
       "    }\n",
       "\n",
       "    .dataframe thead th {\n",
       "        text-align: right;\n",
       "    }\n",
       "</style>\n",
       "<table border=\"1\" class=\"dataframe\">\n",
       "  <thead>\n",
       "    <tr style=\"text-align: right;\">\n",
       "      <th></th>\n",
       "      <th>tai100a</th>\n",
       "      <th>tai80a</th>\n",
       "      <th>tai20a</th>\n",
       "      <th>tai40a</th>\n",
       "      <th>tai60a</th>\n",
       "    </tr>\n",
       "  </thead>\n",
       "  <tbody>\n",
       "    <tr>\n",
       "      <th>2-opt local search with first improvement + don't look bits</th>\n",
       "      <td>23649456</td>\n",
       "      <td>15296932</td>\n",
       "      <td>831480</td>\n",
       "      <td>3594708</td>\n",
       "      <td>8284414</td>\n",
       "    </tr>\n",
       "    <tr>\n",
       "      <th>Iterated local search + stochastic 2-opt, iter = 100</th>\n",
       "      <td>23621576</td>\n",
       "      <td>15258976</td>\n",
       "      <td>784994</td>\n",
       "      <td>3603496</td>\n",
       "      <td>8228784</td>\n",
       "    </tr>\n",
       "  </tbody>\n",
       "</table>\n",
       "</div>"
      ],
      "text/plain": [
       "                                                     tai100a  ...   tai60a\n",
       "2-opt local search with first improvement + don...  23649456  ...  8284414\n",
       "Iterated local search + stochastic 2-opt, iter ...  23621576  ...  8228784\n",
       "\n",
       "[2 rows x 5 columns]"
      ]
     },
     "execution_count": 9,
     "metadata": {
      "tags": []
     },
     "output_type": "execute_result"
    }
   ],
   "source": [
    "func_table"
   ]
  }
 ],
 "metadata": {
  "colab": {
   "collapsed_sections": [],
   "name": "wtf is this.ipynb",
   "provenance": []
  },
  "kernelspec": {
   "display_name": "Python 3",
   "language": "python",
   "name": "python3"
  },
  "language_info": {
   "codemirror_mode": {
    "name": "ipython",
    "version": 3
   },
   "file_extension": ".py",
   "mimetype": "text/x-python",
   "name": "python",
   "nbconvert_exporter": "python",
   "pygments_lexer": "ipython3",
   "version": "3.8.8"
  }
 },
 "nbformat": 4,
 "nbformat_minor": 1
}
